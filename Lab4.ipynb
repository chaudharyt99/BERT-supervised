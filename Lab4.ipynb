{
 "cells": [
  {
   "cell_type": "markdown",
   "metadata": {},
   "source": [
    "## DSCI 572 Lab 4: RNNs for sentiment analysis\n",
    "\n",
    "### Assignment Topics\n",
    "- Train a deep learning system for real-world task\n",
    "- Recurrent Neural Networks\n",
    "- RNN, LSTM, GRU \n",
    "\n",
    "### Software Requirements\n",
    "- Python (>=3.6)\n",
    "- PyTorch (>=1.7.1) \n",
    "- Jupyter (latest)  \n",
    "\n",
    "### Submission Info.\n",
    "- Due Date: Sunday, February 5, 2023, 23:59:00 \n",
    "\n",
    "## Getting Started"
   ]
  },
  {
   "cell_type": "code",
   "execution_count": 1,
   "metadata": {},
   "outputs": [],
   "source": [
    "# all the necessary imports\n",
    "import torch\n",
    "from torch.utils.data import Dataset\n",
    "import torch.nn as nn\n",
    "from torch import optim\n",
    "import torch"
   ]
  },
  {
   "cell_type": "markdown",
   "metadata": {},
   "source": [
    "## Tidy Submission\n",
    "\n",
    "rubric={mechanics:1}\n",
    "\n",
    "To get the marks for tidy submission:\n",
    "- Submit the assignment by filling in this jupyter notebook with your answers embedded\n",
    "- Use random seeds appropriately\n",
    "- Be sure to follow the [general lab instructions](https://ubc-mds.github.io/resources_pages/general_lab_instructions)"
   ]
  },
  {
   "cell_type": "markdown",
   "metadata": {},
   "source": [
    "# Assignment 1: Kaggle competition on sentiment analysis\n",
    "\n",
    "(This assignment is based **heavily** on the work of the 2022 DSIC572 teaching team. Thank you Chiyu, Peter and Muhammad!)\n",
    "\n",
    "In this exercise, you'll be competing for the best performance in sentiment analysis of Yelp reviews. Remember, this is just a game. Don't put too much pressure on yourself, but do try to come up with a fully functional system for sentiment analysis using the approaches which we've explored in the course. The top-2 submissions will be awarded extra points. \n",
    "\n",
    "### Yelp sentiment analysis\n",
    "\n",
    "Millions of people share a great number of reviews about businesses on [Yelp.com](https://www.yelp.com/) and Yelp mobile app everyday. We used [Yelp APIs (application programming interface)](https://www.yelp.ca/developers) to collect over 35,000 reviews of 1,000 restaurants in New York City. We split this dataset into 90\\% TRAIN set (28,000 reviews), 10\\% DEV set (3,500 reviews), and 10\\% TEST set (3,500 reviews). \n",
    "\n",
    "The data-points in each dataset contain both an input review and a corresponding label ranging from 1 star (the worst reviews) to 5 stars (the best reviews). This table shows the class distribution of TRAIN and DEV sets.\n",
    "\n",
    "|    Rating  |   # of Train   reviews| # of Dev reviews    |  \n",
    "| ---------- | -----------------  |-----|  \n",
    "| 1star      | 5,619              | 683 |  \n",
    "| 2star      | 5,616              | 677 |  \n",
    "| 3star      | 5,583              | 713 |  \n",
    "| 4star      | 5,532              | 733 |  \n",
    "| 5star      | 5,650              | 694 |  \n",
    "\n",
    "\n",
    "In directory `data` (which you can find in your DSCI572 student repo `labs/Lab4/data`), we provide the `TRAIN` (`train.tsv`) and `DEV` (`val.tsv`) sets with the corresponding labels for your system development. \n",
    "Please use the TRAIN and DEV sets to develop a classification system for this task. You can use any model we've covered in the course (e.g., linear regression, feed-forward neural network, RNN, GRUs, LSTM) or some machine learning model which we didn't cover. However, your solution has to contain a non-trivial machine learning component. \n",
    "\n",
    "We also provide the inputs for the `TEST` split. You will use your best trained model to predict the labels of **`TEST` reviews** and submit your predictions to a Kaggle competition. \n",
    "\n",
    "**The performance of your submitted systems will be evaluated on predictions of rating labels for reviews in TEST set. Macro Averaged F-score will be the evaluation metric.** \n",
    "\n",
    "Your mark is based on the quality of your work:\n",
    "\n",
    "* Does your code run? \n",
    "* Is the code neat, commented and easy to follow?\n",
    "* Is the machine learning strategy appropriate for this task?\n",
    "* Are the hyper-parameters tuned? Are you exploring the space of hyper-parameters adequately?\n",
    "\n",
    "Moreover, particularly interesting and thorough work including thorough analysis of the results will be rewarded. As mentioned above, we will also award a few extra points to the top-2 systems submitted to the Kaggle competition.\n",
    "\n",
    "Gentle reminder of the rubrics that will be relevant:  \n",
    "\n",
    "[Accuracy](https://github.com/UBC-MDS/public/blob/master/rubric/rubric_accuracy.md)    \n",
    "[Quality](https://github.com/UBC-MDS/public/blob/master/rubric/rubric_quality.md)   \n",
    "[Reasoning](https://github.com/UBC-MDS/public/blob/master/rubric/rubric_reasoning.md)  \n",
    "[Mechanics](https://github.com/UBC-MDS/public/blob/master/rubric/rubric_mech.md)"
   ]
  },
  {
   "cell_type": "markdown",
   "metadata": {},
   "source": [
    "### 1.1 Yelp review rating prediction \n",
    "rubric={accuracy:10}"
   ]
  },
  {
   "cell_type": "markdown",
   "metadata": {},
   "source": [
    "#### Development Instructions"
   ]
  },
  {
   "cell_type": "markdown",
   "metadata": {},
   "source": [
    "**1. Data and preprocessing**\n",
    "\n",
    "The Yelp reviews are untokenized. You should first select a tokenizer for your system (e.g., SpaCy English model, whitespace tokenizer, NLTK word tokenizer, or other). The choice of tokenizer can influence your final performance, so it can be a good idea to try a few different ones and select the best system based on the macro F1 score on the development set. \n",
    "\n",
    "You should use pandas to read the train, development and test data.\n",
    "\n",
    "If you use pytorch for this assignment, you should also numericalize your data and organize it into mini-batches."
   ]
  },
  {
   "cell_type": "code",
   "execution_count": null,
   "metadata": {},
   "outputs": [],
   "source": [
    "# your data code here\n"
   ]
  },
  {
   "cell_type": "markdown",
   "metadata": {},
   "source": [
    "**2. Model selection and hyper-parameter tuning. You need to select the architecture you want to use. You may need to search the optimal hyper-parameter set to improve your model performance.**\n",
    "\n",
    "You might want to explore a few different architectures for the sentiment analysis task. One suggestion is to use some sort of RNN sequence classifier, but many other architectures will also be possible and can give you nice performance. If you decide to implement a neural model, Miikka recommends that you establish a baseline first using a traditional feature-based model like logistic regression. \n",
    "\n",
    "There are many ways to improve model performance: \n",
    "\n",
    "* You might want to use pretrained embeddings for this task (e.g., [google news word2vec](https://code.google.com/archive/p/word2vec/), [GloVe](https://nlp.stanford.edu/projects/glove/), [ELMo](https://allennlp.org/elmo)) instead of randomly initialized embeddings \n",
    "* You might explore various feature extraction approaches like CountVectorizer and TfidfVectorizer \n",
    "* You can adjust your vocabulary size (by dropping very frequent or infrequent items)\n",
    "* If you're using a neural model, you can adjust the number of layers and the size of hidden layers\n",
    "* You can try out different flavors of neural models (RNN, LSTM, GRU)\n",
    "* You can apply regularization, e.g. dropout\n",
    "* Changing training procedure, such as number of epochs, learning rate (with or without scheduling), adding regularization and momentum (or Adam).\n",
    "* You may find some novel ideas in the state-of-the-art NLP systems [here](http://nlpprogress.com/english/sentiment_analysis.html).\n",
    "\n",
    "You can evaluate the macro averaged F1 score (as compute by sklearn functions) to monitor the impact of various design choices and hyperparameters.\n",
    "\n",
    "Hint: Due to the potentially intensive computational resource requirements, we suggest that you run your experiments on [Google Colab](https://colab.research.google.com/notebooks/intro.ipynb#recent=true). However, this is not required. \n",
    "\n",
    "Please read `Colab instructions` for more information on Colab"
   ]
  },
  {
   "cell_type": "code",
   "execution_count": null,
   "metadata": {},
   "outputs": [],
   "source": [
    "# your model code here\n"
   ]
  },
  {
   "cell_type": "markdown",
   "metadata": {},
   "source": [
    "**3. When you get your best model on DEV set, you will use this model to predict the labels of `TEST set` and submit your prediction.**"
   ]
  },
  {
   "cell_type": "code",
   "execution_count": null,
   "metadata": {},
   "outputs": [],
   "source": [
    "# your prediction code here\n"
   ]
  },
  {
   "cell_type": "markdown",
   "metadata": {},
   "source": [
    "**4. For submission of predictions.**"
   ]
  },
  {
   "cell_type": "markdown",
   "metadata": {},
   "source": [
    "#### Offline validation\n",
    "\n",
    "1. In directory `./data/yelp_review/`,  `EXAMPLE_GOLD.txt` and `EXAMPLE_PRED.txt` are examples of gold and prediction files which can be used with the ``Scorer.py`` provided (description below). Your submission should have excactly the same structure as **`EXAMPLE_PRED.txt`** (i.e., each line contains one predication label without header of the column.) This is important.\n",
    "\n",
    "2. `./data/yelp_review/Scorer.py`\n",
    "\n",
    "The scoring script (`Scorer.py`) is provided at the root directory of the released data. `Scorer.py` is a python script that will take in two text files containing true labels and predicted labels and will output accuracy, F1 score, precision and recall. (Note that the evaluation metric is F1 score).  The scoring script is used for evaluating your TEST prediction. This is an offline scorer to see how you do on the Dev set. Once you are satisfied with your performance you can upload your submission to the Kaggle.\n",
    "\n",
    "Please make sure to have `sklearn library` installed before running `Scorer.py`.\n",
    "```\n",
    "Usage of the scorer:\n",
    "\n",
    "    python3 Scorer.py  <gold-file> <pred-file>\n",
    "\n",
    "In the dataset directory, there are example\n",
    "gold and prediction files. If they are used with the scorer,\n",
    "they should produce the following results:\n",
    "\n",
    "python3 Scorer.py EXAMPLE_GOLD.txt EXAMPLE_PRED.txt\n",
    "\n",
    "OVERALL SCORES:\n",
    "MACRO AVERAGE PRECISION SCORE: 20.97 %\n",
    "MACRO AVERAGE RECALL SCORE: 20.97 %\n",
    "MACRO AVERAGE F1 SCORE: 20.97 %\n",
    "OVERALL ACCURACY: 20.97 %\n",
    "```\n",
    "\n",
    "**Requirements:**\n",
    "1. Your submission must have the **same** structure as `Tom_Smith_PRED.txt` (the example prediction file in `blank_labs/Lab4/` in the student repo). \n",
    "\n",
    "\n",
    "2. The predication label must be in the **original label format** (`i.e., '1star', '2star', '3star', '4star', or '5star'`).\n",
    "\n",
    "We provide a funtion `out_prediction()` to generate the predictions in the correct format:"
   ]
  },
  {
   "cell_type": "code",
   "execution_count": null,
   "metadata": {},
   "outputs": [],
   "source": [
    "def out_prediction(first_name, last_name, prediction_list):\n",
    "    \"\"\"\n",
    "    out_prediction takes three input varibles: first_name, last_name, prediction_list\n",
    "    <first_name>, string, your first name, e.g., Tom\n",
    "    <last_name>, string, your last name, e.g., Smith\n",
    "    <prediction_list>, list of string which includes all your predications of TEST samples\n",
    "                        e.g., ['1star','5star','3star']\n",
    "                        \n",
    "    Generate a file is named with <yourfirstname>_<yourlastname>_PRED.txt in current directory\n",
    "    \"\"\"\n",
    "    output_file = open(\"{}_{}_PRED.txt\".format(first_name,last_name),'w')\n",
    "    for item in prediction_list:\n",
    "        output_file.write(item+\"\\n\")\n",
    "    output_file.close()   "
   ]
  },
  {
   "cell_type": "markdown",
   "metadata": {},
   "source": [
    "An example of using `out_prediction` funtion. You can find a file `Tom_Smith_PRED.txt` in your diretory."
   ]
  },
  {
   "cell_type": "code",
   "execution_count": null,
   "metadata": {},
   "outputs": [],
   "source": [
    "out_prediction(\"Tom\", \"Smith\", ['1star','5star','3star'])"
   ]
  },
  {
   "cell_type": "markdown",
   "metadata": {},
   "source": [
    "More detailed instructions on uploading your predictions to Kaggle along with the link to the Kaggle competition will be given in the lab session on Thursday."
   ]
  },
  {
   "cell_type": "markdown",
   "metadata": {},
   "source": [
    "#### Colab Instructions"
   ]
  },
  {
   "cell_type": "markdown",
   "metadata": {},
   "source": [
    "[Google Colab](https://colab.research.google.com/notebooks/intro.ipynb#recent=true) will allow you to train your model on a GPU. \n",
    "\n",
    "You can follow the steps to use Colab:\n",
    "\n",
    "1. We provide a new notebook `(lab4_colab.ipynb)` for your experiments on Colab. You should develop your system on `lab4_colab.ipynb` instead of current jupyter notebook. \n",
    "2. Go to [Google colab](https://colab.research.google.com).\n",
    "3. Create an account or login your account.\n",
    "4. Select \"UPLOAD\" and upload `lab4_colab.ipynb`, again please don't upload current notebook (Lab4.ipynb).\n",
    "5. Set the hardware: \n",
    "**Go to the navigation bar, click Runtime --> Change runtime type --> Hardware accelerator --> Select GPU.**\n",
    "6. You don't need to install any packages. Google prepared everything for you.\n",
    "7. You can find all your generations in `Files`. You can download your notebook and files.\n",
    "\n",
    "Suggestion: \n",
    "1. You can download the notebook from Colab and overwrite your local version of **`lab4_colab.ipynb`**. \n",
    "2. If you train your model on GPU, please make sure your model, input and loss is sent to GPU using XXX.to(device) where device is `cuda`. \n",
    "3. If you want to send the GPU varibles to CPU, please use XXX.cpu() to detach from GPU. You can find more related information [here](https://pytorch.org/docs/stable/notes/cuda.html). \n",
    "4. Google colab keeps disconnecting automatically after 30 mins without activity. You can find some solutions [here](https://stackoverflow.com/questions/57113226/how-to-prevent-google-colab-from-disconnecting). \n",
    "\n",
    "``Warning``: Running on Colab CPU will be slow (easily slower than running on your laptop). "
   ]
  },
  {
   "cell_type": "markdown",
   "metadata": {},
   "source": [
    "### 1.2 Spark Bonus (Optional)\n",
    "rubric={spark:5} \n",
    "\n",
    "We'll award 5 extra points to the top-2 systems and/or for particularly good work."
   ]
  },
  {
   "cell_type": "markdown",
   "metadata": {},
   "source": [
    "### 1.3 Please clearly describe the system you submitted in 1.1 (i.e., your best model) in a maximum of 400 words.\n",
    "rubric={reasoning:5}\n",
    "\n",
    "Hints: \n",
    "1. Describe your overall approach to sentiment analysis. You should also mention strategies which you attempted but which did not eventually end up being successful.\n",
    "1. Describe all the hyper-parameters of your submitted system and describe the hyper-parmeter tuning process.\n",
    "1. Format things to make them easy to understand.\n",
    "1. Provide some error analysis. Do some of the classes (1-5 stars) attain better performance than others. Why do you think that might be?\n",
    "1. Mention a few ideas which might help to improve your current system"
   ]
  },
  {
   "cell_type": "raw",
   "metadata": {},
   "source": [
    "YOUR ANSWER HERE\n"
   ]
  },
  {
   "cell_type": "code",
   "execution_count": 2,
   "metadata": {},
   "outputs": [
    {
     "data": {
      "text/html": [
       "<style>#sk-container-id-1 {color: black;}#sk-container-id-1 pre{padding: 0;}#sk-container-id-1 div.sk-toggleable {background-color: white;}#sk-container-id-1 label.sk-toggleable__label {cursor: pointer;display: block;width: 100%;margin-bottom: 0;padding: 0.3em;box-sizing: border-box;text-align: center;}#sk-container-id-1 label.sk-toggleable__label-arrow:before {content: \"▸\";float: left;margin-right: 0.25em;color: #696969;}#sk-container-id-1 label.sk-toggleable__label-arrow:hover:before {color: black;}#sk-container-id-1 div.sk-estimator:hover label.sk-toggleable__label-arrow:before {color: black;}#sk-container-id-1 div.sk-toggleable__content {max-height: 0;max-width: 0;overflow: hidden;text-align: left;background-color: #f0f8ff;}#sk-container-id-1 div.sk-toggleable__content pre {margin: 0.2em;color: black;border-radius: 0.25em;background-color: #f0f8ff;}#sk-container-id-1 input.sk-toggleable__control:checked~div.sk-toggleable__content {max-height: 200px;max-width: 100%;overflow: auto;}#sk-container-id-1 input.sk-toggleable__control:checked~label.sk-toggleable__label-arrow:before {content: \"▾\";}#sk-container-id-1 div.sk-estimator input.sk-toggleable__control:checked~label.sk-toggleable__label {background-color: #d4ebff;}#sk-container-id-1 div.sk-label input.sk-toggleable__control:checked~label.sk-toggleable__label {background-color: #d4ebff;}#sk-container-id-1 input.sk-hidden--visually {border: 0;clip: rect(1px 1px 1px 1px);clip: rect(1px, 1px, 1px, 1px);height: 1px;margin: -1px;overflow: hidden;padding: 0;position: absolute;width: 1px;}#sk-container-id-1 div.sk-estimator {font-family: monospace;background-color: #f0f8ff;border: 1px dotted black;border-radius: 0.25em;box-sizing: border-box;margin-bottom: 0.5em;}#sk-container-id-1 div.sk-estimator:hover {background-color: #d4ebff;}#sk-container-id-1 div.sk-parallel-item::after {content: \"\";width: 100%;border-bottom: 1px solid gray;flex-grow: 1;}#sk-container-id-1 div.sk-label:hover label.sk-toggleable__label {background-color: #d4ebff;}#sk-container-id-1 div.sk-serial::before {content: \"\";position: absolute;border-left: 1px solid gray;box-sizing: border-box;top: 0;bottom: 0;left: 50%;z-index: 0;}#sk-container-id-1 div.sk-serial {display: flex;flex-direction: column;align-items: center;background-color: white;padding-right: 0.2em;padding-left: 0.2em;position: relative;}#sk-container-id-1 div.sk-item {position: relative;z-index: 1;}#sk-container-id-1 div.sk-parallel {display: flex;align-items: stretch;justify-content: center;background-color: white;position: relative;}#sk-container-id-1 div.sk-item::before, #sk-container-id-1 div.sk-parallel-item::before {content: \"\";position: absolute;border-left: 1px solid gray;box-sizing: border-box;top: 0;bottom: 0;left: 50%;z-index: -1;}#sk-container-id-1 div.sk-parallel-item {display: flex;flex-direction: column;z-index: 1;position: relative;background-color: white;}#sk-container-id-1 div.sk-parallel-item:first-child::after {align-self: flex-end;width: 50%;}#sk-container-id-1 div.sk-parallel-item:last-child::after {align-self: flex-start;width: 50%;}#sk-container-id-1 div.sk-parallel-item:only-child::after {width: 0;}#sk-container-id-1 div.sk-dashed-wrapped {border: 1px dashed gray;margin: 0 0.4em 0.5em 0.4em;box-sizing: border-box;padding-bottom: 0.4em;background-color: white;}#sk-container-id-1 div.sk-label label {font-family: monospace;font-weight: bold;display: inline-block;line-height: 1.2em;}#sk-container-id-1 div.sk-label-container {text-align: center;}#sk-container-id-1 div.sk-container {/* jupyter's `normalize.less` sets `[hidden] { display: none; }` but bootstrap.min.css set `[hidden] { display: none !important; }` so we also need the `!important` here to be able to override the default hidden behavior on the sphinx rendered scikit-learn.org. See: https://github.com/scikit-learn/scikit-learn/issues/21755 */display: inline-block !important;position: relative;}#sk-container-id-1 div.sk-text-repr-fallback {display: none;}</style><div id=\"sk-container-id-1\" class=\"sk-top-container\"><div class=\"sk-text-repr-fallback\"><pre>LabelEncoder()</pre><b>In a Jupyter environment, please rerun this cell to show the HTML representation or trust the notebook. <br />On GitHub, the HTML representation is unable to render, please try loading this page with nbviewer.org.</b></div><div class=\"sk-container\" hidden><div class=\"sk-item\"><div class=\"sk-estimator sk-toggleable\"><input class=\"sk-toggleable__control sk-hidden--visually\" id=\"sk-estimator-id-1\" type=\"checkbox\" checked><label for=\"sk-estimator-id-1\" class=\"sk-toggleable__label sk-toggleable__label-arrow\">LabelEncoder</label><div class=\"sk-toggleable__content\"><pre>LabelEncoder()</pre></div></div></div></div></div>"
      ],
      "text/plain": [
       "LabelEncoder()"
      ]
     },
     "execution_count": 2,
     "metadata": {},
     "output_type": "execute_result"
    }
   ],
   "source": [
    "from sklearn.preprocessing import LabelEncoder\n",
    "le = LabelEncoder()\n",
    "\n",
    "le.fit([\"4star\", \"2star\", \"4star\"])"
   ]
  },
  {
   "cell_type": "code",
   "execution_count": 21,
   "metadata": {},
   "outputs": [],
   "source": [
    "import pandas as pd\n",
    "\n",
    "dfx = pd.read_csv('./data/yelp_review/train.tsv', delimiter='\\t')"
   ]
  },
  {
   "cell_type": "code",
   "execution_count": 22,
   "metadata": {},
   "outputs": [
    {
     "data": {
      "text/html": [
       "<div>\n",
       "<style scoped>\n",
       "    .dataframe tbody tr th:only-of-type {\n",
       "        vertical-align: middle;\n",
       "    }\n",
       "\n",
       "    .dataframe tbody tr th {\n",
       "        vertical-align: top;\n",
       "    }\n",
       "\n",
       "    .dataframe thead th {\n",
       "        text-align: right;\n",
       "    }\n",
       "</style>\n",
       "<table border=\"1\" class=\"dataframe\">\n",
       "  <thead>\n",
       "    <tr style=\"text-align: right;\">\n",
       "      <th></th>\n",
       "      <th>content</th>\n",
       "      <th>rating</th>\n",
       "    </tr>\n",
       "  </thead>\n",
       "  <tbody>\n",
       "    <tr>\n",
       "      <th>0</th>\n",
       "      <td>There are some restaurants that you don't want...</td>\n",
       "      <td>4star</td>\n",
       "    </tr>\n",
       "    <tr>\n",
       "      <th>1</th>\n",
       "      <td>Lucky for us there was no wait unlike other ti...</td>\n",
       "      <td>4star</td>\n",
       "    </tr>\n",
       "    <tr>\n",
       "      <th>2</th>\n",
       "      <td>Worst ever Michelin restaurant I have ever bee...</td>\n",
       "      <td>1star</td>\n",
       "    </tr>\n",
       "    <tr>\n",
       "      <th>3</th>\n",
       "      <td>Came here today to celebrate my birthdays with...</td>\n",
       "      <td>4star</td>\n",
       "    </tr>\n",
       "    <tr>\n",
       "      <th>4</th>\n",
       "      <td>This, is where hipsters go to get Caribbean fo...</td>\n",
       "      <td>2star</td>\n",
       "    </tr>\n",
       "    <tr>\n",
       "      <th>...</th>\n",
       "      <td>...</td>\n",
       "      <td>...</td>\n",
       "    </tr>\n",
       "    <tr>\n",
       "      <th>27995</th>\n",
       "      <td>Came here for the unlimited brunch for a Galen...</td>\n",
       "      <td>2star</td>\n",
       "    </tr>\n",
       "    <tr>\n",
       "      <th>27996</th>\n",
       "      <td>I've been here many times since my first visit...</td>\n",
       "      <td>5star</td>\n",
       "    </tr>\n",
       "    <tr>\n",
       "      <th>27997</th>\n",
       "      <td>The menu had my mind boggled. I looked at it f...</td>\n",
       "      <td>4star</td>\n",
       "    </tr>\n",
       "    <tr>\n",
       "      <th>27998</th>\n",
       "      <td>I stop here every year when I'm in NYC for a B...</td>\n",
       "      <td>5star</td>\n",
       "    </tr>\n",
       "    <tr>\n",
       "      <th>27999</th>\n",
       "      <td>This place was incredibly busy but the service...</td>\n",
       "      <td>5star</td>\n",
       "    </tr>\n",
       "  </tbody>\n",
       "</table>\n",
       "<p>28000 rows × 2 columns</p>\n",
       "</div>"
      ],
      "text/plain": [
       "                                                 content rating\n",
       "0      There are some restaurants that you don't want...  4star\n",
       "1      Lucky for us there was no wait unlike other ti...  4star\n",
       "2      Worst ever Michelin restaurant I have ever bee...  1star\n",
       "3      Came here today to celebrate my birthdays with...  4star\n",
       "4      This, is where hipsters go to get Caribbean fo...  2star\n",
       "...                                                  ...    ...\n",
       "27995  Came here for the unlimited brunch for a Galen...  2star\n",
       "27996  I've been here many times since my first visit...  5star\n",
       "27997  The menu had my mind boggled. I looked at it f...  4star\n",
       "27998  I stop here every year when I'm in NYC for a B...  5star\n",
       "27999  This place was incredibly busy but the service...  5star\n",
       "\n",
       "[28000 rows x 2 columns]"
      ]
     },
     "execution_count": 22,
     "metadata": {},
     "output_type": "execute_result"
    }
   ],
   "source": [
    "dfx"
   ]
  },
  {
   "cell_type": "code",
   "execution_count": 23,
   "metadata": {},
   "outputs": [],
   "source": [
    "dfx.rating = le.fit_transform(dfx.rating)"
   ]
  },
  {
   "cell_type": "code",
   "execution_count": 24,
   "metadata": {},
   "outputs": [
    {
     "data": {
      "text/html": [
       "<div>\n",
       "<style scoped>\n",
       "    .dataframe tbody tr th:only-of-type {\n",
       "        vertical-align: middle;\n",
       "    }\n",
       "\n",
       "    .dataframe tbody tr th {\n",
       "        vertical-align: top;\n",
       "    }\n",
       "\n",
       "    .dataframe thead th {\n",
       "        text-align: right;\n",
       "    }\n",
       "</style>\n",
       "<table border=\"1\" class=\"dataframe\">\n",
       "  <thead>\n",
       "    <tr style=\"text-align: right;\">\n",
       "      <th></th>\n",
       "      <th>content</th>\n",
       "      <th>rating</th>\n",
       "    </tr>\n",
       "  </thead>\n",
       "  <tbody>\n",
       "    <tr>\n",
       "      <th>0</th>\n",
       "      <td>There are some restaurants that you don't want...</td>\n",
       "      <td>3</td>\n",
       "    </tr>\n",
       "    <tr>\n",
       "      <th>1</th>\n",
       "      <td>Lucky for us there was no wait unlike other ti...</td>\n",
       "      <td>3</td>\n",
       "    </tr>\n",
       "    <tr>\n",
       "      <th>2</th>\n",
       "      <td>Worst ever Michelin restaurant I have ever bee...</td>\n",
       "      <td>0</td>\n",
       "    </tr>\n",
       "    <tr>\n",
       "      <th>3</th>\n",
       "      <td>Came here today to celebrate my birthdays with...</td>\n",
       "      <td>3</td>\n",
       "    </tr>\n",
       "    <tr>\n",
       "      <th>4</th>\n",
       "      <td>This, is where hipsters go to get Caribbean fo...</td>\n",
       "      <td>1</td>\n",
       "    </tr>\n",
       "    <tr>\n",
       "      <th>...</th>\n",
       "      <td>...</td>\n",
       "      <td>...</td>\n",
       "    </tr>\n",
       "    <tr>\n",
       "      <th>27995</th>\n",
       "      <td>Came here for the unlimited brunch for a Galen...</td>\n",
       "      <td>1</td>\n",
       "    </tr>\n",
       "    <tr>\n",
       "      <th>27996</th>\n",
       "      <td>I've been here many times since my first visit...</td>\n",
       "      <td>4</td>\n",
       "    </tr>\n",
       "    <tr>\n",
       "      <th>27997</th>\n",
       "      <td>The menu had my mind boggled. I looked at it f...</td>\n",
       "      <td>3</td>\n",
       "    </tr>\n",
       "    <tr>\n",
       "      <th>27998</th>\n",
       "      <td>I stop here every year when I'm in NYC for a B...</td>\n",
       "      <td>4</td>\n",
       "    </tr>\n",
       "    <tr>\n",
       "      <th>27999</th>\n",
       "      <td>This place was incredibly busy but the service...</td>\n",
       "      <td>4</td>\n",
       "    </tr>\n",
       "  </tbody>\n",
       "</table>\n",
       "<p>28000 rows × 2 columns</p>\n",
       "</div>"
      ],
      "text/plain": [
       "                                                 content  rating\n",
       "0      There are some restaurants that you don't want...       3\n",
       "1      Lucky for us there was no wait unlike other ti...       3\n",
       "2      Worst ever Michelin restaurant I have ever bee...       0\n",
       "3      Came here today to celebrate my birthdays with...       3\n",
       "4      This, is where hipsters go to get Caribbean fo...       1\n",
       "...                                                  ...     ...\n",
       "27995  Came here for the unlimited brunch for a Galen...       1\n",
       "27996  I've been here many times since my first visit...       4\n",
       "27997  The menu had my mind boggled. I looked at it f...       3\n",
       "27998  I stop here every year when I'm in NYC for a B...       4\n",
       "27999  This place was incredibly busy but the service...       4\n",
       "\n",
       "[28000 rows x 2 columns]"
      ]
     },
     "execution_count": 24,
     "metadata": {},
     "output_type": "execute_result"
    }
   ],
   "source": [
    "dfx"
   ]
  },
  {
   "cell_type": "code",
   "execution_count": 9,
   "metadata": {},
   "outputs": [
    {
     "data": {
      "text/plain": [
       "'Bette than the average take out but not yout sit down level. It\\'s basically fuddruckers took over szchuanfood, this would be it. There is certain standardization \\xa0to its menu given that it\\'s a chain, but taste and seasoning deviates based on who is in the kitchen. Had a half hour break in Chinatown on errands so stopped in for a quick spicy beef noodle dish. \\xa0The noodles were nice and chewy, either someone or the machine stretched the heck out of that gluten and I love it! \\xa0Chinese noodles are supposed to be chewy with \\xa0a nice bite and spring! The seasoning was not spicy nor numbing. \\xa0So a bit disappointing. \\xa0But this is pretty standard as I\\'ve been to other locations and they are all your \"not Chinese person\" level of spicy, lol. It\\'s great for a quick lunch or dinner but nothing to travel for.'"
      ]
     },
     "execution_count": 9,
     "metadata": {},
     "output_type": "execute_result"
    }
   ],
   "source": [
    "dfx.iloc[0]['content']"
   ]
  },
  {
   "cell_type": "code",
   "execution_count": 4,
   "metadata": {},
   "outputs": [
    {
     "data": {
      "text/plain": [
       "array(['2star', '4star'], dtype='<U5')"
      ]
     },
     "execution_count": 4,
     "metadata": {},
     "output_type": "execute_result"
    }
   ],
   "source": [
    "le.classes_"
   ]
  },
  {
   "cell_type": "code",
   "execution_count": 3,
   "metadata": {},
   "outputs": [
    {
     "data": {
      "text/plain": [
       "array([0, 0, 0])"
      ]
     },
     "execution_count": 3,
     "metadata": {},
     "output_type": "execute_result"
    }
   ],
   "source": [
    "le.transform([\"2star\", \"2star\", \"2star\"])"
   ]
  },
  {
   "cell_type": "markdown",
   "metadata": {
    "jp-MarkdownHeadingCollapsed": true
   },
   "source": [
    "### 1.4 Please organize your code in `Lab4.ipynb` only keeping the code that you used to train your submitted system in 1.1. Submit `Lab4.ipynb` with the repo.\n",
    "rubric={quality:5,mechanics:5}\n",
    "\n",
    "Make sure that your code is commented and neatly organized. Also, make sure that you use descriptive variable names and split your code into functions where appropriate. \n",
    "\n",
    "Please submit your code in `Lab4.ipynb` even if you used Google Colab."
   ]
  }
 ],
 "metadata": {
  "kernelspec": {
   "display_name": "Python 3 (ipykernel)",
   "language": "python",
   "name": "python3"
  },
  "language_info": {
   "codemirror_mode": {
    "name": "ipython",
    "version": 3
   },
   "file_extension": ".py",
   "mimetype": "text/x-python",
   "name": "python",
   "nbconvert_exporter": "python",
   "pygments_lexer": "ipython3",
   "version": "3.11.5"
  }
 },
 "nbformat": 4,
 "nbformat_minor": 4
}
